{
  "cells": [
    {
      "cell_type": "markdown",
      "metadata": {
        "id": "view-in-github",
        "colab_type": "text"
      },
      "source": [
        "<a href=\"https://colab.research.google.com/github/leelogan0223-ops/123/blob/main/2025_fall/sort_by_frequency.ipynb\" target=\"_parent\"><img src=\"https://colab.research.google.com/assets/colab-badge.svg\" alt=\"Open In Colab\"/></a>"
      ]
    },
    {
      "cell_type": "markdown",
      "id": "fa17a2d2",
      "metadata": {
        "id": "fa17a2d2"
      },
      "source": [
        "## 빈도에 따라 정렬하기\n",
        "\n",
        "문자가 한번 혹은 여러 번 나오는 하나의 문자열이 주어졌을 때 출현하는 빈도가 높은 문자부터 정렬하는 것이 이 문제의 목표입니다.<br>\n",
        "단, 어느 문자를 먼저 정렬하느냐에 대한 기준은 없습니다.\n",
        "\n",
        "```\n",
        "s=\"happoap\"\n",
        "\"pppaaho\"\n",
        "```\n",
        "\n",
        "힌트: ```collections.Counter``` 와 ```sorted``` 를 사용하세요."
      ]
    },
    {
      "cell_type": "code",
      "execution_count": 5,
      "id": "e149ae1e",
      "metadata": {
        "id": "e149ae1e"
      },
      "outputs": [],
      "source": [
        "import collections\n",
        "\n",
        "def sort_by_frequency(s: str) -> str:\n",
        "    # 1. Counter로 각 글자의 개수를 셈\n",
        "    counts = collections.Counter(s)\n",
        "\n",
        "    # 2. 개수가 많은 순서대로 글자들을 정렬 (내림차순)\n",
        "    # key=lambda x: x[1]은 개수(value)를 기준으로 정렬하라는 의미\n",
        "    # reverse=True는 내림차순(큰 것부터)으로 정렬하라는 의미\n",
        "    sorted_counts = sorted(counts.items(), key=lambda item: item[1], reverse=True)\n",
        "    # 정렬된 결과: [('p', 3), ('a', 2), ('h', 1), ('o', 1)]\n",
        "\n",
        "    # 3. 정렬된 순서에 맞게 새 문자열을 조립\n",
        "    result = \"\"\n",
        "    for char, count in sorted_counts:\n",
        "        # 문자를 개수만큼 반복해서 결과에 더해줌\n",
        "        result += char * count\n",
        "\n",
        "    return result"
      ]
    },
    {
      "cell_type": "code",
      "execution_count": 6,
      "id": "0300b568",
      "metadata": {
        "id": "0300b568",
        "outputId": "89fd1a78-2b17-41fe-9f69-310f5a302759",
        "colab": {
          "base_uri": "https://localhost:8080/"
        }
      },
      "outputs": [
        {
          "output_type": "stream",
          "name": "stdout",
          "text": [
            "pppaaho\n"
          ]
        }
      ],
      "source": [
        "# 테스트 코드\n",
        "s = \"happoap\"\n",
        "\n",
        "print(sort_by_frequency(s))"
      ]
    }
  ],
  "metadata": {
    "kernelspec": {
      "display_name": ".venv",
      "language": "python",
      "name": "python3"
    },
    "language_info": {
      "codemirror_mode": {
        "name": "ipython",
        "version": 3
      },
      "file_extension": ".py",
      "mimetype": "text/x-python",
      "name": "python",
      "nbconvert_exporter": "python",
      "pygments_lexer": "ipython3",
      "version": "3.9.13"
    },
    "colab": {
      "provenance": [],
      "include_colab_link": true
    }
  },
  "nbformat": 4,
  "nbformat_minor": 5
}