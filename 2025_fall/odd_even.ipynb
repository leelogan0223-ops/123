{
  "cells": [
    {
      "cell_type": "markdown",
      "metadata": {
        "id": "view-in-github",
        "colab_type": "text"
      },
      "source": [
        "<a href=\"https://colab.research.google.com/github/leelogan0223-ops/123/blob/main/2025_fall/odd_even.ipynb\" target=\"_parent\"><img src=\"https://colab.research.google.com/assets/colab-badge.svg\" alt=\"Open In Colab\"/></a>"
      ]
    },
    {
      "cell_type": "markdown",
      "id": "b42901c2",
      "metadata": {
        "id": "b42901c2"
      },
      "source": [
        "## 홀수와 짝수로 정렬하기\n",
        "\n",
        "정수로 구성된 배열이 주어집니다. 이 배열에 존재하는 모든 짝수를 배열의 앞에, 홀수를 그 뒤쪽에 배치해야 합니다. 짝수와 홀수로 구분된 정수는 정렬이 되어있지 않아도 됩니다. <br>\n",
        "예를들어, ```[5, 3, 8, 12]``` 라는 4개의 정수가 주어졌을 때 ```[12, 8, 5, 3]``` 도 ```[8, 12, 3, 5]``` 도 모두 유효한 결과로 간주합니다. <br>\n",
        "단, 추가 공간을 할당하지 않고 해결하는 것이 이 문제의 조건입니다.\n",
        "\n"
      ]
    },
    {
      "cell_type": "code",
      "execution_count": 51,
      "id": "48c35c6e",
      "metadata": {
        "id": "48c35c6e"
      },
      "outputs": [],
      "source": [
        "def sort_even_odd(nums: list[int]) -> list[int]:\n",
        "    left = 0              # 왼쪽에서 출발할 포인터\n",
        "    right = len(nums) - 1 # 오른쪽에서 출발할 포인터\n",
        "\n",
        "    # 두 포인터가 서로 만나기 전까지 반복\n",
        "    while left < right:\n",
        "        # left 포인터는 짝수를 만나면 통과\n",
        "        while left < right and nums[left] % 2 == 0:\n",
        "            left += 1\n",
        "\n",
        "        # right 포인터는 홀수를 만나면 통과 (조건식 수정!)\n",
        "        while left < right and nums[right] % 2 != 0:\n",
        "            right -= 1\n",
        "\n",
        "        # left는 홀수를, right는 짝수를 찾았다면 위치를 바꿈\n",
        "        if left < right:\n",
        "            nums[left], nums[right] = nums[right], nums[left]\n",
        "\n",
        "    return nums"
      ]
    },
    {
      "cell_type": "code",
      "execution_count": 52,
      "id": "c2f7fb7f",
      "metadata": {
        "id": "c2f7fb7f",
        "outputId": "e65e5163-11b2-424c-c6da-0045977040f2",
        "colab": {
          "base_uri": "https://localhost:8080/"
        }
      },
      "outputs": [
        {
          "output_type": "stream",
          "name": "stdout",
          "text": [
            "[12, 8, 3, 5]\n"
          ]
        }
      ],
      "source": [
        "# 테스트 코드\n",
        "\n",
        "nums = [5, 3, 8, 12]\n",
        "\n",
        "print(sort_even_odd(nums))"
      ]
    }
  ],
  "metadata": {
    "kernelspec": {
      "display_name": ".venv",
      "language": "python",
      "name": "python3"
    },
    "language_info": {
      "codemirror_mode": {
        "name": "ipython",
        "version": 3
      },
      "file_extension": ".py",
      "mimetype": "text/x-python",
      "name": "python",
      "nbconvert_exporter": "python",
      "pygments_lexer": "ipython3",
      "version": "3.9.13"
    },
    "colab": {
      "provenance": [],
      "include_colab_link": true
    }
  },
  "nbformat": 4,
  "nbformat_minor": 5
}